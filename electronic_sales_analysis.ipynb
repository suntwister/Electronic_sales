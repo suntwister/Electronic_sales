{
 "cells": [
  {
   "cell_type": "code",
   "execution_count": 8,
   "id": "c644c089",
   "metadata": {},
   "outputs": [],
   "source": [
    "import pandas as pd\n",
    "import matplotlib.pyplot as plt"
   ]
  },
  {
   "cell_type": "code",
   "execution_count": 9,
   "id": "e6034591",
   "metadata": {},
   "outputs": [
    {
     "name": "stdout",
     "output_type": "stream",
     "text": [
      "Table Head\n"
     ]
    },
    {
     "data": {
      "text/html": [
       "<div>\n",
       "<style scoped>\n",
       "    .dataframe tbody tr th:only-of-type {\n",
       "        vertical-align: middle;\n",
       "    }\n",
       "\n",
       "    .dataframe tbody tr th {\n",
       "        vertical-align: top;\n",
       "    }\n",
       "\n",
       "    .dataframe thead th {\n",
       "        text-align: right;\n",
       "    }\n",
       "</style>\n",
       "<table border=\"1\" class=\"dataframe\">\n",
       "  <thead>\n",
       "    <tr style=\"text-align: right;\">\n",
       "      <th></th>\n",
       "      <th>Date</th>\n",
       "      <th>Branch</th>\n",
       "      <th>Sales Agent</th>\n",
       "      <th>Products</th>\n",
       "      <th>Units</th>\n",
       "      <th>Price</th>\n",
       "    </tr>\n",
       "  </thead>\n",
       "  <tbody>\n",
       "    <tr>\n",
       "      <th>0</th>\n",
       "      <td>2014-09-01</td>\n",
       "      <td>Woji</td>\n",
       "      <td>Chinedu</td>\n",
       "      <td>Apple</td>\n",
       "      <td>2</td>\n",
       "      <td>125.00</td>\n",
       "    </tr>\n",
       "    <tr>\n",
       "      <th>1</th>\n",
       "      <td>2015-06-17</td>\n",
       "      <td>Woji</td>\n",
       "      <td>Emeka</td>\n",
       "      <td>Apple</td>\n",
       "      <td>5</td>\n",
       "      <td>125.00</td>\n",
       "    </tr>\n",
       "    <tr>\n",
       "      <th>2</th>\n",
       "      <td>2015-09-10</td>\n",
       "      <td>Woji</td>\n",
       "      <td>Ibrahim</td>\n",
       "      <td>Lenovo</td>\n",
       "      <td>7</td>\n",
       "      <td>1.29</td>\n",
       "    </tr>\n",
       "    <tr>\n",
       "      <th>3</th>\n",
       "      <td>2015-11-17</td>\n",
       "      <td>Woji</td>\n",
       "      <td>Tolu</td>\n",
       "      <td>HP</td>\n",
       "      <td>11</td>\n",
       "      <td>4.99</td>\n",
       "    </tr>\n",
       "    <tr>\n",
       "      <th>4</th>\n",
       "      <td>2015-10-31</td>\n",
       "      <td>Woji</td>\n",
       "      <td>Tonye</td>\n",
       "      <td>Lenovo</td>\n",
       "      <td>14</td>\n",
       "      <td>1.29</td>\n",
       "    </tr>\n",
       "  </tbody>\n",
       "</table>\n",
       "</div>"
      ],
      "text/plain": [
       "        Date Branch Sales Agent Products  Units   Price\n",
       "0 2014-09-01   Woji     Chinedu    Apple      2  125.00\n",
       "1 2015-06-17   Woji       Emeka    Apple      5  125.00\n",
       "2 2015-09-10   Woji     Ibrahim   Lenovo      7    1.29\n",
       "3 2015-11-17   Woji        Tolu       HP     11    4.99\n",
       "4 2015-10-31   Woji       Tonye   Lenovo     14    1.29"
      ]
     },
     "execution_count": 9,
     "metadata": {},
     "output_type": "execute_result"
    }
   ],
   "source": [
    "df = pd.read_excel('eletronic_sales.xlsx')\n",
    "print(\"Table Head\")\n",
    "df.head()\n"
   ]
  },
  {
   "cell_type": "code",
   "execution_count": 10,
   "id": "c585549c",
   "metadata": {},
   "outputs": [
    {
     "data": {
      "text/plain": [
       "(43, 6)"
      ]
     },
     "execution_count": 10,
     "metadata": {},
     "output_type": "execute_result"
    }
   ],
   "source": [
    "df.shape"
   ]
  },
  {
   "cell_type": "code",
   "execution_count": 11,
   "id": "df312401",
   "metadata": {},
   "outputs": [
    {
     "name": "stdout",
     "output_type": "stream",
     "text": [
      "<class 'pandas.core.frame.DataFrame'>\n",
      "RangeIndex: 43 entries, 0 to 42\n",
      "Data columns (total 6 columns):\n",
      " #   Column       Non-Null Count  Dtype         \n",
      "---  ------       --------------  -----         \n",
      " 0   Date         43 non-null     datetime64[ns]\n",
      " 1   Branch       43 non-null     object        \n",
      " 2   Sales Agent  43 non-null     object        \n",
      " 3   Products     43 non-null     object        \n",
      " 4   Units        43 non-null     int64         \n",
      " 5   Price        43 non-null     float64       \n",
      "dtypes: datetime64[ns](1), float64(1), int64(1), object(3)\n",
      "memory usage: 2.1+ KB\n"
     ]
    }
   ],
   "source": [
    "df.info()"
   ]
  },
  {
   "cell_type": "code",
   "execution_count": null,
   "id": "842b3713",
   "metadata": {},
   "outputs": [
    {
     "name": "stdout",
     "output_type": "stream",
     "text": [
      "Shape of the dataset\n",
      "Shape: (43, 6)\n",
      "\n",
      " ========================================\n",
      "Info (data types and nulls\n",
      "\n",
      "<class 'pandas.core.frame.DataFrame'>\n",
      "RangeIndex: 43 entries, 0 to 42\n",
      "Data columns (total 6 columns):\n",
      " #   Column       Non-Null Count  Dtype         \n",
      "---  ------       --------------  -----         \n",
      " 0   Date         43 non-null     datetime64[ns]\n",
      " 1   Branch       43 non-null     object        \n",
      " 2   Sales Agent  43 non-null     object        \n",
      " 3   Products     43 non-null     object        \n",
      " 4   Units        43 non-null     int64         \n",
      " 5   Price        43 non-null     float64       \n",
      "dtypes: datetime64[ns](1), float64(1), int64(1), object(3)\n",
      "memory usage: 2.1+ KB\n",
      "\n",
      " ========================================\n",
      "Summary statistics\n",
      "\n",
      "                      Date      Units       Price\n",
      "count                   43  43.000000   43.000000\n",
      "mean   2014-12-29 00:00:00  49.325581   20.308605\n",
      "min    2014-01-06 00:00:00   2.000000    1.290000\n",
      "25%    2014-07-03 12:00:00  27.500000    3.990000\n",
      "50%    2014-12-29 00:00:00  53.000000    4.990000\n",
      "75%    2015-06-25 12:00:00  74.500000   17.990000\n",
      "max    2015-12-21 00:00:00  96.000000  275.000000\n",
      "std                    NaN  30.078248   47.345118\n",
      "\n",
      " ========================================\n",
      "Check for missing values\n",
      "\n"
     ]
    },
    {
     "data": {
      "text/plain": [
       "Date           0\n",
       "Branch         0\n",
       "Sales Agent    0\n",
       "Products       0\n",
       "Units          0\n",
       "Price          0\n",
       "dtype: int64"
      ]
     },
     "execution_count": 12,
     "metadata": {},
     "output_type": "execute_result"
    }
   ],
   "source": [
    "print(\"Shape of the dataset\")\n",
    "print(\"Shape:\", df.shape)\n",
    "print(\"\\n\", \"==\" * 20)\n",
    "print(\"Info (data types and nulls\\n\")\n",
    "df.info()\n",
    "print(\"\\n\", \"==\" * 20)\n",
    "print(\"Summary statistics\\n\")\n",
    "print(df.describe())\n",
    "print(\"\\n\", \"==\" * 20)\n",
    "print(\"Check for missing values\\n\")\n",
    "df.isna().sum()"
   ]
  },
  {
   "cell_type": "code",
   "execution_count": 13,
   "id": "db017fae",
   "metadata": {},
   "outputs": [
    {
     "name": "stdout",
     "output_type": "stream",
     "text": [
      "Date: 43 unique values out of 43\n",
      "Branch: 3 unique values out of 43\n",
      "Sales Agent: 11 unique values out of 43\n",
      "Products: 5 unique values out of 43\n",
      "Units: 37 unique values out of 43\n",
      "Price: 12 unique values out of 43\n"
     ]
    }
   ],
   "source": [
    "for cols in df.columns:\n",
    "    print(f\"{cols}: {df[cols].nunique()} unique values out of {len(df[cols])}\")"
   ]
  },
  {
   "cell_type": "code",
   "execution_count": 14,
   "id": "cdaf740c",
   "metadata": {},
   "outputs": [
    {
     "data": {
      "text/plain": [
       "Date           datetime64[ns]\n",
       "Branch                 object\n",
       "Sales Agent            object\n",
       "Products               object\n",
       "Units                   int64\n",
       "Price                 float64\n",
       "dtype: object"
      ]
     },
     "execution_count": 14,
     "metadata": {},
     "output_type": "execute_result"
    }
   ],
   "source": [
    "df.dtypes"
   ]
  },
  {
   "cell_type": "code",
   "execution_count": 15,
   "id": "dfe8dfa6",
   "metadata": {},
   "outputs": [
    {
     "name": "stdout",
     "output_type": "stream",
     "text": [
      "Date has 0 dupilcates\n",
      "Branch has 0 dupilcates\n",
      "Sales Agent has 0 dupilcates\n",
      "Products has 0 dupilcates\n",
      "Units has 0 dupilcates\n",
      "Price has 0 dupilcates\n"
     ]
    }
   ],
   "source": [
    "for cols in df.columns:\n",
    "    print(f\"{cols} has {df.duplicated().sum()} dupilcates\")"
   ]
  },
  {
   "cell_type": "code",
   "execution_count": 16,
   "id": "3b4134c7",
   "metadata": {},
   "outputs": [],
   "source": [
    "df['Year'] = df['Date'].dt.year\n",
    "df['Month_Name'] = df['Date'].dt.month_name()\n",
    "#df = df.drop(columns=['Month_Name'])"
   ]
  },
  {
   "cell_type": "code",
   "execution_count": 17,
   "id": "1fac3a07",
   "metadata": {},
   "outputs": [
    {
     "data": {
      "text/plain": [
       "Date           datetime64[ns]\n",
       "Branch                 object\n",
       "Sales Agent            object\n",
       "Products               object\n",
       "Units                   int64\n",
       "Price                 float64\n",
       "Year                    int32\n",
       "Month_Name             object\n",
       "dtype: object"
      ]
     },
     "execution_count": 17,
     "metadata": {},
     "output_type": "execute_result"
    }
   ],
   "source": [
    "df.dtypes"
   ]
  },
  {
   "cell_type": "code",
   "execution_count": 18,
   "id": "a486576d",
   "metadata": {},
   "outputs": [],
   "source": [
    "df['Price'] = df['Price'].astype(str).str.strip().astype(float)"
   ]
  },
  {
   "cell_type": "code",
   "execution_count": 19,
   "id": "48d01b50",
   "metadata": {},
   "outputs": [
    {
     "name": "stdout",
     "output_type": "stream",
     "text": [
      "duplicates: 0\n"
     ]
    }
   ],
   "source": [
    "print(f\"duplicates: {df.duplicated().sum()}\")"
   ]
  },
  {
   "cell_type": "code",
   "execution_count": 20,
   "id": "78f48349",
   "metadata": {},
   "outputs": [],
   "source": [
    "df['Revennue'] = df['Price'] * df['Units']"
   ]
  },
  {
   "cell_type": "code",
   "execution_count": 21,
   "id": "6fb8258e",
   "metadata": {},
   "outputs": [
    {
     "data": {
      "text/plain": [
       "<Axes: xlabel='Date'>"
      ]
     },
     "execution_count": 21,
     "metadata": {},
     "output_type": "execute_result"
    },
    {
     "data": {
      "image/png": "[encoded data removed]",
      "text/plain": [
       "<Figure size 640x480 with 1 Axes>"
      ]
     },
     "metadata": {},
     "output_type": "display_data"
    }
   ],
   "source": [
    "df.groupby('Date')['Revennue'].sum().plot()"
   ]
  },
  {
   "cell_type": "code",
   "execution_count": 22,
   "id": "ecb90ec8",
   "metadata": {},
   "outputs": [
    {
     "data": {
      "text/plain": [
       "Sales Agent\n",
       "Emeka       3109.44\n",
       "Chioma      3102.30\n",
       "Tolu        2812.19\n",
       "Blessing    2363.04\n",
       "Ibrahim     1749.87\n",
       "Name: Revennue, dtype: float64"
      ]
     },
     "execution_count": 22,
     "metadata": {},
     "output_type": "execute_result"
    }
   ],
   "source": [
    "df.groupby('Sales Agent')['Revennue'].sum().nlargest(5)"
   ]
  },
  {
   "cell_type": "code",
   "execution_count": 31,
   "id": "eace37c9",
   "metadata": {},
   "outputs": [
    {
     "data": {
      "text/html": [
       "<div>\n",
       "<style scoped>\n",
       "    .dataframe tbody tr th:only-of-type {\n",
       "        vertical-align: middle;\n",
       "    }\n",
       "\n",
       "    .dataframe tbody tr th {\n",
       "        vertical-align: top;\n",
       "    }\n",
       "\n",
       "    .dataframe thead th {\n",
       "        text-align: right;\n",
       "    }\n",
       "</style>\n",
       "<table border=\"1\" class=\"dataframe\">\n",
       "  <thead>\n",
       "    <tr style=\"text-align: right;\">\n",
       "      <th>Year</th>\n",
       "      <th>2014</th>\n",
       "      <th>2015</th>\n",
       "    </tr>\n",
       "    <tr>\n",
       "      <th>Products</th>\n",
       "      <th></th>\n",
       "      <th></th>\n",
       "    </tr>\n",
       "  </thead>\n",
       "  <tbody>\n",
       "    <tr>\n",
       "      <th>Apple</th>\n",
       "      <td>250.00</td>\n",
       "      <td>1450.00</td>\n",
       "    </tr>\n",
       "    <tr>\n",
       "      <th>Compaq</th>\n",
       "      <td>1414.94</td>\n",
       "      <td>630.28</td>\n",
       "    </tr>\n",
       "    <tr>\n",
       "      <th>Dell</th>\n",
       "      <td>1918.14</td>\n",
       "      <td>2251.73</td>\n",
       "    </tr>\n",
       "    <tr>\n",
       "      <th>HP</th>\n",
       "      <td>3766.92</td>\n",
       "      <td>5810.73</td>\n",
       "    </tr>\n",
       "    <tr>\n",
       "      <th>Lenovo</th>\n",
       "      <td>1908.34</td>\n",
       "      <td>226.80</td>\n",
       "    </tr>\n",
       "  </tbody>\n",
       "</table>\n",
       "</div>"
      ],
      "text/plain": [
       "Year         2014     2015\n",
       "Products                  \n",
       "Apple      250.00  1450.00\n",
       "Compaq    1414.94   630.28\n",
       "Dell      1918.14  2251.73\n",
       "HP        3766.92  5810.73\n",
       "Lenovo    1908.34   226.80"
      ]
     },
     "execution_count": 31,
     "metadata": {},
     "output_type": "execute_result"
    }
   ],
   "source": [
    "pivot = pd.pivot_table(df, values='Revennue', index=\"Products\", columns=\"Year\", aggfunc=\"sum\")\n",
    "pivot"
   ]
  },
  {
   "cell_type": "code",
   "execution_count": 24,
   "id": "a9cd35a4",
   "metadata": {},
   "outputs": [
    {
     "data": {
      "text/plain": [
       "Index(['Date', 'Branch', 'Sales Agent', 'Products', 'Units', 'Price', 'Year',\n",
       "       'Month_Name', 'Revennue'],\n",
       "      dtype='object')"
      ]
     },
     "execution_count": 24,
     "metadata": {},
     "output_type": "execute_result"
    }
   ],
   "source": [
    "df.columns"
   ]
  },
  {
   "cell_type": "code",
   "execution_count": null,
   "id": "15d0e328",
   "metadata": {},
   "outputs": [
    {
     "name": "stdout",
     "output_type": "stream",
     "text": [
      "Top 5 Sales Agent\n"
     ]
    },
    {
     "data": {
      "text/plain": [
       "Sales Agent\n",
       "Emeka       3109.44\n",
       "Chioma      3102.30\n",
       "Tolu        2812.19\n",
       "Blessing    2363.04\n",
       "Ibrahim     1749.87\n",
       "Name: Revennue, dtype: float64"
      ]
     },
     "execution_count": 35,
     "metadata": {},
     "output_type": "execute_result"
    }
   ],
   "source": [
    "# customer analysis\n",
    "print(\"Top 5 Sales Agent\")\n",
    "df.groupby('Sales Agent')['Revennue'].sum().nlargest(5)"
   ]
  },
  {
   "cell_type": "code",
   "execution_count": 37,
   "id": "b0bf955b",
   "metadata": {},
   "outputs": [
    {
     "name": "stdout",
     "output_type": "stream",
     "text": [
      "Agent Sales per Year\n"
     ]
    },
    {
     "data": {
      "text/html": [
       "<div>\n",
       "<style scoped>\n",
       "    .dataframe tbody tr th:only-of-type {\n",
       "        vertical-align: middle;\n",
       "    }\n",
       "\n",
       "    .dataframe tbody tr th {\n",
       "        vertical-align: top;\n",
       "    }\n",
       "\n",
       "    .dataframe thead th {\n",
       "        text-align: right;\n",
       "    }\n",
       "</style>\n",
       "<table border=\"1\" class=\"dataframe\">\n",
       "  <thead>\n",
       "    <tr style=\"text-align: right;\">\n",
       "      <th>Year</th>\n",
       "      <th>2014</th>\n",
       "      <th>2015</th>\n",
       "    </tr>\n",
       "    <tr>\n",
       "      <th>Sales Agent</th>\n",
       "      <th></th>\n",
       "      <th></th>\n",
       "    </tr>\n",
       "  </thead>\n",
       "  <tbody>\n",
       "    <tr>\n",
       "      <th>Blessing</th>\n",
       "      <td>2033.70</td>\n",
       "      <td>329.34</td>\n",
       "    </tr>\n",
       "    <tr>\n",
       "      <th>Chinedu</th>\n",
       "      <td>336.43</td>\n",
       "      <td>1305.00</td>\n",
       "    </tr>\n",
       "    <tr>\n",
       "      <th>Chioma</th>\n",
       "      <td>3102.30</td>\n",
       "      <td>NaN</td>\n",
       "    </tr>\n",
       "    <tr>\n",
       "      <th>Emeka</th>\n",
       "      <td>1478.54</td>\n",
       "      <td>1630.90</td>\n",
       "    </tr>\n",
       "    <tr>\n",
       "      <th>George</th>\n",
       "      <td>700.82</td>\n",
       "      <td>686.95</td>\n",
       "    </tr>\n",
       "    <tr>\n",
       "      <th>Ibrahim</th>\n",
       "      <td>539.73</td>\n",
       "      <td>1210.14</td>\n",
       "    </tr>\n",
       "    <tr>\n",
       "      <th>Tolu</th>\n",
       "      <td>628.74</td>\n",
       "      <td>2183.45</td>\n",
       "    </tr>\n",
       "    <tr>\n",
       "      <th>Tonye</th>\n",
       "      <td>149.25</td>\n",
       "      <td>289.12</td>\n",
       "    </tr>\n",
       "    <tr>\n",
       "      <th>Torbari</th>\n",
       "      <td>57.71</td>\n",
       "      <td>479.04</td>\n",
       "    </tr>\n",
       "    <tr>\n",
       "      <th>Tunde</th>\n",
       "      <td>63.68</td>\n",
       "      <td>1139.43</td>\n",
       "    </tr>\n",
       "    <tr>\n",
       "      <th>Uche</th>\n",
       "      <td>167.44</td>\n",
       "      <td>1116.17</td>\n",
       "    </tr>\n",
       "  </tbody>\n",
       "</table>\n",
       "</div>"
      ],
      "text/plain": [
       "Year            2014     2015\n",
       "Sales Agent                  \n",
       "Blessing     2033.70   329.34\n",
       "Chinedu       336.43  1305.00\n",
       "Chioma       3102.30      NaN\n",
       "Emeka        1478.54  1630.90\n",
       "George        700.82   686.95\n",
       "Ibrahim       539.73  1210.14\n",
       "Tolu          628.74  2183.45\n",
       "Tonye         149.25   289.12\n",
       "Torbari        57.71   479.04\n",
       "Tunde          63.68  1139.43\n",
       "Uche          167.44  1116.17"
      ]
     },
     "execution_count": 37,
     "metadata": {},
     "output_type": "execute_result"
    }
   ],
   "source": [
    "top_agent = pd.pivot_table(df, values='Revennue', index='Sales Agent', columns='Year', aggfunc='sum')\n",
    "print(\"Agent Sales per Year\")\n",
    "top_agent"
   ]
  },
  {
   "cell_type": "code",
   "execution_count": 43,
   "id": "dc4f720c",
   "metadata": {},
   "outputs": [
    {
     "data": {
      "text/html": [
       "<div>\n",
       "<style scoped>\n",
       "    .dataframe tbody tr th:only-of-type {\n",
       "        vertical-align: middle;\n",
       "    }\n",
       "\n",
       "    .dataframe tbody tr th {\n",
       "        vertical-align: top;\n",
       "    }\n",
       "\n",
       "    .dataframe thead th {\n",
       "        text-align: right;\n",
       "    }\n",
       "</style>\n",
       "<table border=\"1\" class=\"dataframe\">\n",
       "  <thead>\n",
       "    <tr style=\"text-align: right;\">\n",
       "      <th>Year</th>\n",
       "      <th>2014</th>\n",
       "      <th>2015</th>\n",
       "    </tr>\n",
       "    <tr>\n",
       "      <th>Sales Agent</th>\n",
       "      <th></th>\n",
       "      <th></th>\n",
       "    </tr>\n",
       "  </thead>\n",
       "  <tbody>\n",
       "    <tr>\n",
       "      <th>Blessing</th>\n",
       "      <td>2033.70</td>\n",
       "      <td>329.34</td>\n",
       "    </tr>\n",
       "    <tr>\n",
       "      <th>Chinedu</th>\n",
       "      <td>336.43</td>\n",
       "      <td>1305.00</td>\n",
       "    </tr>\n",
       "    <tr>\n",
       "      <th>Chioma</th>\n",
       "      <td>3102.30</td>\n",
       "      <td>NaN</td>\n",
       "    </tr>\n",
       "    <tr>\n",
       "      <th>Emeka</th>\n",
       "      <td>1478.54</td>\n",
       "      <td>1630.90</td>\n",
       "    </tr>\n",
       "    <tr>\n",
       "      <th>George</th>\n",
       "      <td>700.82</td>\n",
       "      <td>686.95</td>\n",
       "    </tr>\n",
       "    <tr>\n",
       "      <th>Ibrahim</th>\n",
       "      <td>539.73</td>\n",
       "      <td>1210.14</td>\n",
       "    </tr>\n",
       "    <tr>\n",
       "      <th>Tolu</th>\n",
       "      <td>628.74</td>\n",
       "      <td>2183.45</td>\n",
       "    </tr>\n",
       "    <tr>\n",
       "      <th>Tonye</th>\n",
       "      <td>149.25</td>\n",
       "      <td>289.12</td>\n",
       "    </tr>\n",
       "    <tr>\n",
       "      <th>Torbari</th>\n",
       "      <td>57.71</td>\n",
       "      <td>479.04</td>\n",
       "    </tr>\n",
       "    <tr>\n",
       "      <th>Tunde</th>\n",
       "      <td>63.68</td>\n",
       "      <td>1139.43</td>\n",
       "    </tr>\n",
       "    <tr>\n",
       "      <th>Uche</th>\n",
       "      <td>167.44</td>\n",
       "      <td>1116.17</td>\n",
       "    </tr>\n",
       "  </tbody>\n",
       "</table>\n",
       "</div>"
      ],
      "text/plain": [
       "Year            2014     2015\n",
       "Sales Agent                  \n",
       "Blessing     2033.70   329.34\n",
       "Chinedu       336.43  1305.00\n",
       "Chioma       3102.30      NaN\n",
       "Emeka        1478.54  1630.90\n",
       "George        700.82   686.95\n",
       "Ibrahim       539.73  1210.14\n",
       "Tolu          628.74  2183.45\n",
       "Tonye         149.25   289.12\n",
       "Torbari        57.71   479.04\n",
       "Tunde          63.68  1139.43\n",
       "Uche          167.44  1116.17"
      ]
     },
     "execution_count": 43,
     "metadata": {},
     "output_type": "execute_result"
    }
   ],
   "source": [
    "# monthly / year sales\n",
    "pd.pivot_table(df, values='Revennue', index='Sales Agent', columns='Year', aggfunc='sum')"
   ]
  },
  {
   "cell_type": "code",
   "execution_count": 45,
   "id": "217804e6",
   "metadata": {},
   "outputs": [
    {
     "data": {
      "text/plain": [
       "<Axes: xlabel='Date'>"
      ]
     },
     "execution_count": 45,
     "metadata": {},
     "output_type": "execute_result"
    },
    {
     "data": {
      "image/png": "[encoded data removed]",
      "text/plain": [
       "<Figure size 640x480 with 1 Axes>"
      ]
     },
     "metadata": {},
     "output_type": "display_data"
    }
   ],
   "source": [
    "df.groupby('Date')['Revennue'].sum().plot()"
   ]
  },
  {
   "cell_type": "code",
   "execution_count": 51,
   "id": "4db95c8a",
   "metadata": {},
   "outputs": [
    {
     "data": {
      "text/plain": [
       "<Axes: title={'center': 'Product Analysis'}, xlabel='Products'>"
      ]
     },
     "execution_count": 51,
     "metadata": {},
     "output_type": "execute_result"
    },
    {
     "data": {
      "image/png": "[encoded data removed]",
      "text/plain": [
       "<Figure size 640x480 with 1 Axes>"
      ]
     },
     "metadata": {},
     "output_type": "display_data"
    }
   ],
   "source": [
    "# Product Analysis\n",
    "df.groupby('Products')['Units'].sum().plot(kind='bar', color='skyblue', title=\"Product Analysis\")"
   ]
  },
  {
   "cell_type": "code",
   "execution_count": 52,
   "id": "ce77880d",
   "metadata": {},
   "outputs": [
    {
     "data": {
      "text/plain": [
       "<Axes: title={'center': 'Product Revenue Analysis'}, xlabel='Products'>"
      ]
     },
     "execution_count": 52,
     "metadata": {},
     "output_type": "execute_result"
    },
    {
     "data": {
      "image/png": "[encoded data removed]",
      "text/plain": [
       "<Figure size 640x480 with 1 Axes>"
      ]
     },
     "metadata": {},
     "output_type": "display_data"
    }
   ],
   "source": [
    "# Most Proftable Products\n",
    "df.groupby('Products')['Revennue'].sum().plot(kind='bar', color='skyblue', title=\"Product Revenue Analysis\")"
   ]
  },
  {
   "cell_type": "code",
   "execution_count": 60,
   "id": "58035b70",
   "metadata": {},
   "outputs": [
    {
     "data": {
      "text/html": [
       "<div>\n",
       "<style scoped>\n",
       "    .dataframe tbody tr th:only-of-type {\n",
       "        vertical-align: middle;\n",
       "    }\n",
       "\n",
       "    .dataframe tbody tr th {\n",
       "        vertical-align: top;\n",
       "    }\n",
       "\n",
       "    .dataframe thead th {\n",
       "        text-align: right;\n",
       "    }\n",
       "</style>\n",
       "<table border=\"1\" class=\"dataframe\">\n",
       "  <thead>\n",
       "    <tr style=\"text-align: right;\">\n",
       "      <th></th>\n",
       "      <th>Revennue</th>\n",
       "      <th>Units</th>\n",
       "      <th>Products</th>\n",
       "    </tr>\n",
       "    <tr>\n",
       "      <th>Branch</th>\n",
       "      <th></th>\n",
       "      <th></th>\n",
       "      <th></th>\n",
       "    </tr>\n",
       "  </thead>\n",
       "  <tbody>\n",
       "    <tr>\n",
       "      <th>GRA</th>\n",
       "      <td>6002.09</td>\n",
       "      <td>691</td>\n",
       "      <td>HPCompaqDellHPLenovoHPHPDellCompaqDellHPLenovo...</td>\n",
       "    </tr>\n",
       "    <tr>\n",
       "      <th>Town</th>\n",
       "      <td>2486.72</td>\n",
       "      <td>231</td>\n",
       "      <td>AppleHPLenovoLenovoHPCompaq</td>\n",
       "    </tr>\n",
       "    <tr>\n",
       "      <th>Woji</th>\n",
       "      <td>11139.07</td>\n",
       "      <td>1199</td>\n",
       "      <td>AppleAppleLenovoHPLenovoCompaqHPHPLenovoDellHP...</td>\n",
       "    </tr>\n",
       "  </tbody>\n",
       "</table>\n",
       "</div>"
      ],
      "text/plain": [
       "        Revennue  Units                                           Products\n",
       "Branch                                                                    \n",
       "GRA      6002.09    691  HPCompaqDellHPLenovoHPHPDellCompaqDellHPLenovo...\n",
       "Town     2486.72    231                        AppleHPLenovoLenovoHPCompaq\n",
       "Woji    11139.07   1199  AppleAppleLenovoHPLenovoCompaqHPHPLenovoDellHP..."
      ]
     },
     "execution_count": 60,
     "metadata": {},
     "output_type": "execute_result"
    }
   ],
   "source": [
    "# Branch Analysis\n",
    "branch_summary = df.groupby('Branch')[['Revennue', 'Units', 'Products']].sum()\n",
    "branch_summary"
   ]
  },
  {
   "cell_type": "code",
   "execution_count": 62,
   "id": "d28bf006",
   "metadata": {},
   "outputs": [],
   "source": [
    "df.to_csv(\"Electronic_sales.csv\", index=False)"
   ]
  },
  {
   "cell_type": "code",
   "execution_count": null,
   "id": "7d2798f4",
   "metadata": {},
   "outputs": [],
   "source": []
  }
 ],
 "metadata": {
  "kernelspec": {
   "display_name": "Python 3",
   "language": "python",
   "name": "python3"
  },
  "language_info": {
   "codemirror_mode": {
    "name": "ipython",
    "version": 3
   },
   "file_extension": ".py",
   "mimetype": "text/x-python",
   "name": "python",
   "nbconvert_exporter": "python",
   "pygments_lexer": "ipython3",
   "version": "3.13.5"
  }
 },
 "nbformat": 4,
 "nbformat_minor": 5
}
